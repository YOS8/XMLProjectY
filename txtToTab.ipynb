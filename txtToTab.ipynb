{
 "cells": [
  {
   "cell_type": "code",
   "execution_count": 5,
   "metadata": {
    "collapsed": true
   },
   "outputs": [],
   "source": [
    "#Ce programme convertit un fichier texte en un fichier tabulaire. \n",
    "f = open(\"/Users/nino/Desktop/cour_M2/xml/projet/xml/Dico_Français_Klingon.txt\",\"r\") \n",
    "fic = open(\"/Users/nino/Desktop/cour_M2/xml/projet/xml/Dico_Français_Klingon2.tab\",\"w\") \n",
    "for  line in f:\n",
    "    line=line.replace(':', '\\t')\n",
    "    #print(line)\n",
    "    fic.write(line)\n",
    "f.close()\n",
    "fic.close()"
   ]
  },
  {
   "cell_type": "code",
   "execution_count": null,
   "metadata": {
    "collapsed": true
   },
   "outputs": [],
   "source": []
  }
 ],
 "metadata": {
  "kernelspec": {
   "display_name": "Python 3",
   "language": "python",
   "name": "python3"
  },
  "language_info": {
   "codemirror_mode": {
    "name": "ipython",
    "version": 3
   },
   "file_extension": ".py",
   "mimetype": "text/x-python",
   "name": "python",
   "nbconvert_exporter": "python",
   "pygments_lexer": "ipython3",
   "version": "3.6.1"
  }
 },
 "nbformat": 4,
 "nbformat_minor": 2
}
